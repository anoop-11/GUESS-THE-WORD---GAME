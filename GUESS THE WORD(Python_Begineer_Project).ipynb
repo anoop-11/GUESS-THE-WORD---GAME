{
  "nbformat": 4,
  "nbformat_minor": 0,
  "metadata": {
    "colab": {
      "name": "Python Begineer Project.ipynb",
      "provenance": [],
      "collapsed_sections": []
    },
    "kernelspec": {
      "name": "python3",
      "display_name": "Python 3"
    }
  },
  "cells": [
    {
      "cell_type": "markdown",
      "metadata": {
        "id": "PA4CYTWEnQ4_"
      },
      "source": [
        "**\"GUESS THE WORD\"-(GAME)**\n"
      ]
    },
    {
      "cell_type": "code",
      "metadata": {
        "id": "rG_z6Kwunc8i",
        "colab": {
          "base_uri": "https://localhost:8080/"
        },
        "outputId": "64227c84-bc06-4862-9bdc-8b71b1580354"
      },
      "source": [
        "import random\n",
        "name = input(\"what is your name\")\n",
        "print(\"welcome\",name)\n",
        "print(\"Good Luck\")\n",
        "words = [\"windows\",\"rainbow\",\"python\",\"program\",\"science\",\"computer\",\"water\"]\n",
        "word = random.choice(words)\n",
        "print(\"guess the character\")\n",
        "guesses = ' '\n",
        "turns = 12\n",
        "while turns>0:\n",
        "  failed = 0\n",
        "  for char in word:\n",
        "    if char in guesses:\n",
        "      print(char)\n",
        "    else:\n",
        "      print(\"_\")\n",
        "      failed += 1\n",
        "  if failed == 0:\n",
        "    print(\"you win\")\n",
        "    print(\"the word is \", word)\n",
        "    break\n",
        "  guess = input(\"guess a character\")\n",
        "  guesses += guess\n",
        "  if guess not in word:\n",
        "    turns -= 1\n",
        "    print(\"wrong\")\n",
        "    print(\"you have\",+turns,\"more guesses\")\n",
        "    if turns == 0:\n",
        "      print(\"you loose\")"
      ],
      "execution_count": null,
      "outputs": [
        {
          "output_type": "stream",
          "text": [
            "what is your nameANOOP\n",
            "welcome ANOOP\n",
            "Good Luck\n",
            "guess the character\n",
            "_\n",
            "_\n",
            "_\n",
            "_\n",
            "_\n",
            "_\n",
            "_\n",
            "guess a characterw\n",
            "w\n",
            "_\n",
            "_\n",
            "_\n",
            "_\n",
            "w\n",
            "_\n",
            "guess a characteri\n",
            "w\n",
            "i\n",
            "_\n",
            "_\n",
            "_\n",
            "w\n",
            "_\n",
            "guess a characterd\n",
            "w\n",
            "i\n",
            "_\n",
            "d\n",
            "_\n",
            "w\n",
            "_\n",
            "guess a charactern\n",
            "w\n",
            "i\n",
            "n\n",
            "d\n",
            "_\n",
            "w\n",
            "_\n",
            "guess a charactero\n",
            "w\n",
            "i\n",
            "n\n",
            "d\n",
            "o\n",
            "w\n",
            "_\n",
            "guess a characters\n",
            "w\n",
            "i\n",
            "n\n",
            "d\n",
            "o\n",
            "w\n",
            "s\n",
            "you win\n",
            "the word is  windows\n"
          ],
          "name": "stdout"
        }
      ]
    }
  ]
}